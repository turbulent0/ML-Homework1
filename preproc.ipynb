{
 "cells": [
  {
   "cell_type": "code",
   "execution_count": 7,
   "metadata": {},
   "outputs": [],
   "source": [
    "import pandas as pd\n",
    "import numpy as np\n",
    "from collections import defaultdict\n",
    "from scipy.stats import hmean\n",
    "from scipy.spatial.distance import cdist\n",
    "from scipy import stats\n",
    "import numbers\n",
    "from sklearn.linear_model import LinearRegression"
   ]
  },
  {
   "cell_type": "code",
   "execution_count": 18,
   "metadata": {},
   "outputs": [],
   "source": [
    "def drop_n(df, axis=0):\n",
    "    \"\"\"Drops rows or columns with NaNs\"\"\"\n",
    "    if (axis == 0):\n",
    "        return df.dropna(axis = 0)\n",
    "    elif (axis == 1):\n",
    "        return df.dropna(axis = 1)\n",
    "    else:\n",
    "        raise ValueError\n"
   ]
  },
  {
   "cell_type": "code",
   "execution_count": 21,
   "metadata": {},
   "outputs": [],
   "source": [
    "def fill_n(df, method = 'mean'):\n",
    "    df = pd.DataFrame(df)\n",
    "    for col in df.columns:\n",
    "        if method == 'mean':\n",
    "            measure = df[col].mean()\n",
    "        elif method =='median':\n",
    "            measure = df[col].median()\n",
    "        elif method == 'mode':\n",
    "            measure = df[col].mode()[0]\n",
    "        else:\n",
    "            raise ValueError\n",
    "        df[col] = df[col].fillna(measure)\n",
    "    return df"
   ]
  },
  {
   "cell_type": "code",
   "execution_count": 15,
   "metadata": {},
   "outputs": [],
   "source": [
    "def linear_pred(X, target):\n",
    "    'NaNs inputted by linear regression'\n",
    "    target_name = target.name\n",
    "    data_dropped = drop_n(pd.concat([X, target], axis = 1), axis = 0)\n",
    "    x_train, y_train = data_dropped[data_dropped.columns[:-1]], data_dropped[data_dropped.columns[-1]]\n",
    "    lr = LinearRegression()\n",
    "    lr.fit(x_train, y_train)\n",
    "    data_predict = pd.concat([fill_n(X,'mean'), target.fillna('m')], axis = 1)\n",
    "    for i in range(len(data_predict)):\n",
    "        if data_predict.loc[i, target_name] == 'm':\n",
    "            x_test = pd.DataFrame(data_predict.iloc[i, :-1]).T\n",
    "            data_predict.loc[i, target_name] = lr.predict(x_test)[0]\n",
    "    return pd.to_numeric(data_predict[target_name])"
   ]
  },
  {
   "cell_type": "code",
   "execution_count": 20,
   "metadata": {},
   "outputs": [],
   "source": [
    "def knn(target, df, k_neighbors):\n",
    "    n = len(target)\n",
    "    # fill Nans with mean values\n",
    "    df_kn = fill_n(df.iloc[:, :-1])\n",
    "    # distance matrix\n",
    "    distances = cdist(df_kn, df_kn, metric='euclidean')\n",
    "    for i, v in enumerate(target):\n",
    "        if pd.isnull(v):\n",
    "            #order of vecotrs by distance by index\n",
    "            order = distances[i].argsort()[:k_neighbors]\n",
    "            # mean of neighbors\n",
    "            target[i] = np.array([target[i] for i in order if not np.isnan(target[i])]).mean()\n",
    "    return target"
   ]
  },
  {
   "cell_type": "code",
   "execution_count": 5,
   "metadata": {},
   "outputs": [],
   "source": [
    "def norm(df):\n",
    "# normalization for numeric\n",
    "    df = pd.DataFrame(df)\n",
    "    for col in df.columns:\n",
    "        df[col] = (df[col] - df[col].mean())/df[col].std()\n",
    "    return df"
   ]
  },
  {
   "cell_type": "code",
   "execution_count": 6,
   "metadata": {},
   "outputs": [],
   "source": [
    "def scaling(df):\n",
    "#scaling for numeric\n",
    "        df = pd.DataFrame(df)\n",
    "        for col in df.columns:\n",
    "            df[col] = (df[col] - df[col].min())/(df[col].max() - df[col].min())\n",
    "        return df\n"
   ]
  }
 ],
 "metadata": {
  "kernelspec": {
   "display_name": "Python 3",
   "language": "python",
   "name": "python3"
  },
  "language_info": {
   "codemirror_mode": {
    "name": "ipython",
    "version": 3
   },
   "file_extension": ".py",
   "mimetype": "text/x-python",
   "name": "python",
   "nbconvert_exporter": "python",
   "pygments_lexer": "ipython3",
   "version": "3.6.0"
  }
 },
 "nbformat": 4,
 "nbformat_minor": 2
}
